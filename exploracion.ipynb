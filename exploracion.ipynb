{
 "cells": [
  {
   "cell_type": "code",
   "execution_count": null,
   "id": "827ff5a0-4556-4b2f-8b0b-2c58f9a2607f",
   "metadata": {},
   "outputs": [],
   "source": [
    "import geopandas\n",
    "import pandas as pd\n",
    "import h3\n",
    "import matplotlib.pyplot as plt"
   ]
  },
  {
   "cell_type": "code",
   "execution_count": null,
   "id": "695701c3",
   "metadata": {},
   "outputs": [],
   "source": [
    "# Descargar y descomprimir el archivo del Censo y mapa de Arbolado de la Ciudad de Buenos Aires\n",
    "# arbolado-publico-lineal-2017-2018.zip en el directorio ./DATA\n",
    "\n",
    "!wget -N -P ./DATA https://cdn.buenosaires.gob.ar/datosabiertos/datasets/atencion-ciudadana/arbolado-publico-lineal/arbolado-publico-lineal-2017-2018.zip\n",
    "!unzip -o ./DATA/arbolado-publico-lineal-2017-2018.zip -d ./DATA"
   ]
  },
  {
   "cell_type": "code",
   "execution_count": null,
   "id": "41b57d6c",
   "metadata": {},
   "outputs": [],
   "source": [
    "def apply_geo_to_h3(row):\n",
    "    geo_point = row['geometry']\n",
    "    lat, lng = geo_point.y, geo_point.x  # Extrae latitud y longitud del punto\n",
    "    resolution = 9  # Define la resolución H3  \n",
    "    # Aplica la función geo_to_h3 para convertir las coordenadas a H3\n",
    "    h3_index = h3.geo_to_h3(lat, lng, resolution)\n",
    "    return h3_index"
   ]
  },
  {
   "cell_type": "code",
   "execution_count": null,
   "id": "a66d597c-a9c9-4ea1-9782-0d9d4d9bfd63",
   "metadata": {},
   "outputs": [],
   "source": [
    "# Datos de los arboles geolocalizados\n",
    "data = geopandas.read_file('./DATA/arbolado-publico-lineal-2017-2018.shp')\n",
    "# Lookup table que contiene el origen de cada especie\n",
    "especies = pd.read_csv('./DATA/especies.csv')"
   ]
  },
  {
   "cell_type": "code",
   "execution_count": null,
   "id": "759349a4",
   "metadata": {},
   "outputs": [],
   "source": [
    "# Visualizacion de los datos (quick & dirty)\n",
    "data.plot()\n",
    "plt.show()"
   ]
  },
  {
   "cell_type": "code",
   "execution_count": null,
   "id": "402b9bb3",
   "metadata": {},
   "outputs": [],
   "source": [
    "# Agregar el origen de la especie a cada observacion\n",
    "data = data.merge(especies, how='left', left_on='nombre_cie', right_on='nombre_cie')\n",
    "# Eliminar registros sin el dato de geometria disponible\n",
    "delete_index = data[data['geometry'].isna()].index\n",
    "data.drop(delete_index, inplace=True)\n",
    "# Calcular el index H3 del poligono al que pertenece cada observacion\n",
    "data['h3_index'] = data.apply(apply_geo_to_h3, axis=1)"
   ]
  },
  {
   "cell_type": "code",
   "execution_count": null,
   "id": "f516810a",
   "metadata": {},
   "outputs": [],
   "source": [
    "# Calcular el ratio Autoctonas sobre el total de arboles por poligono H3\n",
    "ratios_h3 = pd.crosstab(data['h3_index'], data['origen'])\n",
    "ratios_h3['ratio'] = ratios_h3['Autoctona'] / (ratios_h3['Foranea'] + ratios_h3['Autoctona'])"
   ]
  },
  {
   "cell_type": "code",
   "execution_count": null,
   "id": "59f4834b",
   "metadata": {},
   "outputs": [],
   "source": [
    "ratios_h3.describe(percentiles=[.05, .1, .25, .5, .75, .90, .95, .99])"
   ]
  },
  {
   "cell_type": "code",
   "execution_count": null,
   "id": "d7d001eb",
   "metadata": {},
   "outputs": [],
   "source": [
    "ratios_h3['ratio'].hist(bins=30)\n",
    "plt.show()"
   ]
  },
  {
   "cell_type": "code",
   "execution_count": null,
   "id": "17eb8e27",
   "metadata": {},
   "outputs": [],
   "source": [
    "# Poligonos con mayor concentracion de especies autoctonas\n",
    "# ~5% de los casos\n",
    "\n",
    "p95_h3 = ratios_h3[ratios_h3['ratio'] >= .22].copy()"
   ]
  },
  {
   "cell_type": "code",
   "execution_count": null,
   "id": "7e0db923",
   "metadata": {},
   "outputs": [],
   "source": [
    "ratios_h3.to_csv('./OUTPUT/ratios_h3.csv')\n",
    "p95_h3.to_csv('./OUTPUT/p95_h3.csv')"
   ]
  }
 ],
 "metadata": {
  "kernelspec": {
   "display_name": "Python 3 (ipykernel)",
   "language": "python",
   "name": "python3"
  },
  "language_info": {
   "codemirror_mode": {
    "name": "ipython",
    "version": 3
   },
   "file_extension": ".py",
   "mimetype": "text/x-python",
   "name": "python",
   "nbconvert_exporter": "python",
   "pygments_lexer": "ipython3",
   "version": "3.12.3"
  }
 },
 "nbformat": 4,
 "nbformat_minor": 5
}
